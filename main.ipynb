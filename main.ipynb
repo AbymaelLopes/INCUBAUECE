{
 "cells": [
  {
   "cell_type": "code",
   "execution_count": 33,
   "id": "2b08f03e",
   "metadata": {},
   "outputs": [],
   "source": [
    "import pandas as pd\n",
    "from docx import Document\n",
    "import import_ipynb\n",
    "import dicionario\n",
    "import sys\n",
    "sys.path.append(\"bases_de_dados\")\n",
    "import dados\n",
    "%run dados.ipynb"
   ]
  },
  {
   "cell_type": "code",
   "execution_count": 42,
   "id": "409e83d7",
   "metadata": {},
   "outputs": [],
   "source": [
    "\n",
    "chaves_ordenadas = sorted(dicionario.dicionario.keys(), key=len, reverse=True)\n",
    "documento = Document('Relatório semestral - CERNE 1.docx')\n",
    "\n",
    "for paragrafo in documento.paragraphs:\n",
    "    for run in paragrafo.runs:\n",
    "        texto_run_temporario = run.text\n",
    "        for chave in chaves_ordenadas:\n",
    "            valor = str(dicionario.dicionario[chave])\n",
    "            texto_run_temporario = texto_run_temporario.replace(chave, valor)\n",
    "\n",
    "        run.text = texto_run_temporario\n",
    "\n",
    "# print(dados.df_cerne_1['Eixo do CERNE 1'].unique())\n",
    "\n",
    "# for paragrafo in documento.paragraphs:\n",
    "#     for chave in dicionario.dicionario:\n",
    "#         valor = dicionario.dicionario[chave]\n",
    "#         paragrafo.text = paragrafo.text.replace(chave, str(valor))\n",
    "\n",
    "\n",
    "# texto = \"\\n\".join([p.text for p in documento.paragraphs[40:]])\n",
    "\n",
    "# print(texto)\n",
    "# Gerar o documento atualizado\n",
    "documento.save('Relatório semestral - CERNE 1 - atualizado.docx')"
   ]
  }
 ],
 "metadata": {
  "kernelspec": {
   "display_name": "Python 3",
   "language": "python",
   "name": "python3"
  },
  "language_info": {
   "codemirror_mode": {
    "name": "ipython",
    "version": 3
   },
   "file_extension": ".py",
   "mimetype": "text/x-python",
   "name": "python",
   "nbconvert_exporter": "python",
   "pygments_lexer": "ipython3",
   "version": "3.13.9"
  }
 },
 "nbformat": 4,
 "nbformat_minor": 5
}
