{
 "cells": [
  {
   "cell_type": "code",
   "execution_count": 24,
   "id": "4dbb6da6",
   "metadata": {},
   "outputs": [],
   "source": [
    "import pandas as pd"
   ]
  },
  {
   "cell_type": "code",
   "execution_count": 25,
   "id": "73a56eed",
   "metadata": {},
   "outputs": [],
   "source": [
    "# Importação das bases de bases_de_dados\n",
    "df_cerne_1 = pd.read_excel('bases_de_dados/Entradas - Cerne.xlsx')\n",
    "df_trilha_empreendedor = pd.read_excel('bases_de_dados/Entradas - Trilha do Empreendedor.xlsx')\n",
    "df_financeiro = pd.read_excel('bases_de_dados/Entradas - Financeiro.xlsx')\n",
    "df_equipe = pd.read_excel('bases_de_dados/Entradas - Equipe.xlsx')\n",
    "df_empresas = pd.read_excel('bases_de_dados/Entrada - Contagem de Empresas.xlsx')"
   ]
  },
  {
   "cell_type": "code",
   "execution_count": 26,
   "id": "7e61e123",
   "metadata": {},
   "outputs": [],
   "source": [
    "# Remoção de espaços laterais e remoção de valores nulos na coluna especificada\n",
    "def tratamento(dataframe, coluna):\n",
    "    dataframe.columns = dataframe.columns.astype(str).str.strip() # Remove espaços laterais dos nomes das colunas\n",
    "    dataframe.drop(columns=['Eixo do CERNE 2', \n",
    "    'Eixo do CERNE 3', \n",
    "    'Prática Cerne 2',\n",
    "    'Prática Cerne 3',\n",
    "    'Evidência Cerne 2',\n",
    "    'Evidência Cerne 3'\n",
    "    ], inplace=True, errors='ignore') # Remove colunas desnecessárias para o relatório, se existirem\n",
    "    dataframe[coluna] = dataframe[coluna].astype(str).str.strip() # Remove espaços laterais dos valores da coluna especificada\n",
    "    if coluna == 'Eixo do CERNE 1':\n",
    "        dataframe = dataframe.dropna(subset=[coluna])\n",
    "        dataframe = dataframe[dataframe[coluna] != 'nan'] # Remove valores nulos ou 'nan' da coluna especificada\n",
    "        dataframe[coluna] =dataframe[coluna].str.replace(r'\\r?\\n', '', regex=True) # Remove quebras de linha dos valores da coluna especificada\n",
    "    return dataframe\n",
    "\n",
    "df_cerne_1 = tratamento(df_cerne_1, 'Eixo do CERNE 1')"
   ]
  },
  {
   "cell_type": "code",
   "execution_count": 27,
   "id": "791bd924",
   "metadata": {},
   "outputs": [],
   "source": [
    "# Filtro para somar valores existentes passando o dataframe, a coluna e o filtro\n",
    "def filtro_simples(dataframe, valor_filtrado, coluna):\n",
    "    dataframe = dataframe[coluna].isin(valor_filtrado).sum()\n",
    "    return dataframe\n"
   ]
  }
 ],
 "metadata": {
  "kernelspec": {
   "display_name": "Python 3",
   "language": "python",
   "name": "python3"
  },
  "language_info": {
   "codemirror_mode": {
    "name": "ipython",
    "version": 3
   },
   "file_extension": ".py",
   "mimetype": "text/x-python",
   "name": "python",
   "nbconvert_exporter": "python",
   "pygments_lexer": "ipython3",
   "version": "3.12.10"
  }
 },
 "nbformat": 4,
 "nbformat_minor": 5
}
