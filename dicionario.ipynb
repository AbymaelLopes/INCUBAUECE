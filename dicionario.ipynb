{
 "cells": [
  {
   "cell_type": "code",
   "execution_count": 7,
   "id": "b7f7fd60",
   "metadata": {},
   "outputs": [],
   "source": [
    "import import_ipynb\n",
    "import pandas as pd\n",
    "import dados"
   ]
  },
  {
   "cell_type": "code",
   "execution_count": null,
   "id": "783ab432",
   "metadata": {},
   "outputs": [],
   "source": [
    "dados.tratamento(dados.df_cerne_1, 'Tipo de Entrada')\n",
    "\n",
    "dicionario = {\n",
    "    'var0': 'valor0',\n",
    "    'var1': 'valor1',\n",
    "    'var2': dados.filtro_simples(dados.df_cerne_1, ['Sensibilização'], 'Eixo do CERNE 1'),\n",
    "    'var3': \"valor3\",\n",
    "    'var4': \"valor4\",\n",
    "    'var5': dados.filtro_simples(dados.df_cerne_1, ['Prospecção'], 'Eixo do CERNE 1'),\n",
    "    'var6': \"valor6\",\n",
    "    'var7': \"valor7\",\n",
    "    'var8': \"valor8\",\n",
    "    'var9': \"valor9\",\n",
    "    'var10': \"valor10\",\n",
    "    'var11': \"valor11\",\n",
    "    'var12': \"valor12\",\n",
    "    'var13': \"valor13\",\n",
    "    'var14': \"valor14\",\n",
    "    'var15': \"valor15\",\n",
    "    'var16': \"valor16\",\n",
    "    'var17': \"valor17\",\n",
    "    'var18': \"valor18\",\n",
    "    'var19': \"valor19\",\n",
    "    'var20': \"valor20\",\n",
    "    'var21': \"valor21\",\n",
    "    'var22': dados.filtro_simples(dados.df_cerne_1, ['Curso', 'Aula', 'Oficina'], 'Tipo de Entrada'),\n",
    "    'var23': dados.filtro_simples(dados.df_cerne_1, ['Mentoria'], 'Tipo de Entrada'),\n",
    "    'var24': dados.filtro_simples(dados.df_cerne_1, ['Reunião'], 'Tipo de Entrada'),\n",
    "    'var25': dados.filtro_simples(dados.df_cerne_1, ['Atendimento'], 'Tipo de Entrada'),\n",
    "    'var26': dados.filtro_simples(dados.df_cerne_1, ['Reunião','Workshop','Planejamento Estratégico','Visita Técnica', 'Monitoramento', 'Mentoria', 'Evento', 'Atendimento', 'Oficina', 'Banca de Avaliação', 'Apresentação', 'Palestra'], 'Tipo de Entrada'),\n",
    "    'var27': \"valor27\",\n",
    "    'var28': \"valor28\",\n",
    "    'var29': \"valor29\",\n",
    "    'var30': \"valor30\",\n",
    "    'var31': \"valor31\",\n",
    "    'var32': \"valor32\",\n",
    "    'var33': \"valor33\",\n",
    "    'var34': \"valor34\",\n",
    "    'var35': \"valor35\",\n",
    "    'var36': \"valor36\",\n",
    "    'var37': \"valor37\",\n",
    "    'var38': \"valor38\",\n",
    "    'var39': \"valor39\",\n",
    "    'var40': \"valor40\",\n",
    "    'var41': \"valor41\",\n",
    "    'var42': \"valor42\",\n",
    "    'var43': \"valor43\",\n",
    "    'var44': \"valor44\",\n",
    "    'var45': \"valor45\",\n",
    "    'var46': \"valor46\",\n",
    "    'var47': \"valor47\",\n",
    "    'var48': \"valor48\",\n",
    "    'var49': \"valor49\",\n",
    "    'var50': \"valor50\",\n",
    "    'var51': \"valor51\",\n",
    "    'var52': \"valor52\",\n",
    "    'var53': \"valor53\",\n",
    "    'var54': \"valor54\"\n",
    "}"
   ]
  }
 ],
 "metadata": {
  "kernelspec": {
   "display_name": "Python 3",
   "language": "python",
   "name": "python3"
  },
  "language_info": {
   "codemirror_mode": {
    "name": "ipython",
    "version": 3
   },
   "file_extension": ".py",
   "mimetype": "text/x-python",
   "name": "python",
   "nbconvert_exporter": "python",
   "pygments_lexer": "ipython3",
   "version": "3.13.9"
  }
 },
 "nbformat": 4,
 "nbformat_minor": 5
}
